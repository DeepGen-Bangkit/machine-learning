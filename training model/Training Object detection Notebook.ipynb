{
  "nbformat": 4,
  "nbformat_minor": 0,
  "metadata": {
    "accelerator": "GPU",
    "colab": {
      "name": "FINAL  Train a salad detector with TFLite Model Maker",
      "provenance": [],
      "collapsed_sections": []
    },
    "kernelspec": {
      "display_name": "Python 3",
      "name": "python3"
    }
  },
  "cells": [
    {
      "cell_type": "markdown",
      "metadata": {
        "id": "YD3qhlc_qbz3"
      },
      "source": [
        "#Nutribi : Notebook for Training Model (using tensorflow lite model Maker)"
      ]
    },
    {
      "cell_type": "markdown",
      "metadata": {
        "id": "bcLF2PKkSbV3"
      },
      "source": [
        "## 1. Prerequisites\n"
      ]
    },
    {
      "cell_type": "code",
      "metadata": {
        "colab": {
          "base_uri": "https://localhost:8080/"
        },
        "id": "qhl8lqVamEty",
        "outputId": "fe54925c-3168-4370-b2b1-56206e61448d"
      },
      "source": [
        "!pip install -q tflite-model-maker\n",
        "!pip install -q pycocotools"
      ],
      "execution_count": null,
      "outputs": [
        {
          "output_type": "stream",
          "text": [
            "\u001b[K     |████████████████████████████████| 593kB 7.6MB/s \n",
            "\u001b[K     |████████████████████████████████| 112kB 37.2MB/s \n",
            "\u001b[K     |████████████████████████████████| 645kB 22.2MB/s \n",
            "\u001b[K     |████████████████████████████████| 71kB 9.5MB/s \n",
            "\u001b[K     |████████████████████████████████| 174kB 34.8MB/s \n",
            "\u001b[K     |████████████████████████████████| 122kB 34.9MB/s \n",
            "\u001b[K     |████████████████████████████████| 92kB 11.6MB/s \n",
            "\u001b[K     |████████████████████████████████| 1.1MB 35.1MB/s \n",
            "\u001b[K     |████████████████████████████████| 849kB 36.1MB/s \n",
            "\u001b[K     |████████████████████████████████| 1.2MB 52.1MB/s \n",
            "\u001b[K     |████████████████████████████████| 6.3MB 53.2MB/s \n",
            "\u001b[K     |████████████████████████████████| 686kB 47.9MB/s \n",
            "\u001b[K     |████████████████████████████████| 194kB 50.1MB/s \n",
            "\u001b[K     |████████████████████████████████| 358kB 48.2MB/s \n",
            "\u001b[K     |████████████████████████████████| 38.2MB 68kB/s \n",
            "\u001b[K     |████████████████████████████████| 102kB 14.8MB/s \n",
            "\u001b[?25h  Building wheel for fire (setup.py) ... \u001b[?25l\u001b[?25hdone\n",
            "  Building wheel for py-cpuinfo (setup.py) ... \u001b[?25l\u001b[?25hdone\n"
          ],
          "name": "stdout"
        }
      ]
    },
    {
      "cell_type": "markdown",
      "metadata": {
        "id": "l6lRhVK9Q_0U"
      },
      "source": [
        "Import the required packages."
      ]
    },
    {
      "cell_type": "code",
      "metadata": {
        "id": "XtxiUeZEiXpt"
      },
      "source": [
        "import numpy as np\n",
        "import os\n",
        "\n",
        "from tflite_model_maker.config import ExportFormat\n",
        "from tflite_model_maker import model_spec\n",
        "from tflite_model_maker import object_detector\n",
        "\n",
        "import tensorflow as tf\n",
        "assert tf.__version__.startswith('2')\n",
        "\n",
        "tf.get_logger().setLevel('ERROR')\n",
        "from absl import logging\n",
        "logging.set_verbosity(logging.ERROR)"
      ],
      "execution_count": null,
      "outputs": []
    },
    {
      "cell_type": "code",
      "metadata": {
        "id": "xzr9ZkhuA6M4"
      },
      "source": [
        "# from google.cloud import storage\n",
        "\n",
        "# # Initialise a client\n",
        "# storage_client = storage.Client(\"cloud-ml-data\")\n",
        "# # Create a bucket object for our bucket\n",
        "# bucket = storage_client.get_bucket(bucket_name)\n",
        "# # Create a blob object from the filepath\n",
        "# blob = bucket.blob(\"/img/openimage/csv/salads_ml_use.cs\")\n",
        "# # Download the file to a destination\n",
        "# blob.download_to_filename(destination_file_name)"
      ],
      "execution_count": null,
      "outputs": []
    },
    {
      "cell_type": "markdown",
      "metadata": {
        "id": "V5M8iuydhVae"
      },
      "source": [
        "## Train your salad detection model"
      ]
    },
    {
      "cell_type": "code",
      "metadata": {
        "id": "CtdZ-JDwMimd"
      },
      "source": [
        "spec = model_spec.get('efficientdet_lite2')"
      ],
      "execution_count": null,
      "outputs": []
    },
    {
      "cell_type": "markdown",
      "metadata": {
        "id": "s5U-A3tw6Y27"
      },
      "source": [
        "**Load the dataset from google cloud storage.**"
      ]
    },
    {
      "cell_type": "code",
      "metadata": {
        "id": "HD5BvzWe6YKa"
      },
      "source": [
        "train_data, validation_data, test_data = object_detector.DataLoader.from_csv('dataset_object_detection_final.csv')"
      ],
      "execution_count": null,
      "outputs": []
    },
    {
      "cell_type": "code",
      "metadata": {
        "colab": {
          "base_uri": "https://localhost:8080/"
        },
        "id": "xNkC0hTo-Je4",
        "outputId": "aaff1839-67dc-489a-ee18-81759b168a02"
      },
      "source": [
        "train_data"
      ],
      "execution_count": null,
      "outputs": [
        {
          "output_type": "execute_result",
          "data": {
            "text/plain": [
              "<tensorflow_examples.lite.model_maker.core.data_util.object_detector_dataloader.DataLoader at 0x7f69cc7cead0>"
            ]
          },
          "metadata": {
            "tags": []
          },
          "execution_count": 8
        }
      ]
    },
    {
      "cell_type": "markdown",
      "metadata": {
        "id": "2uZkLR6N6gDR"
      },
      "source": [
        "**Train the TensorFlow model with the training data.**\n",
        "\n",
        "- Epoch : 50\n",
        "- Batch Size : 8\n",
        "\n",
        "Default set :\n",
        "  - steps_per_execution = 1\n",
        "  - moving_average_decay = 0\n",
        "  - learning_rate: 0.001\n",
        "  - gradient_norm: 3.7450"
      ]
    },
    {
      "cell_type": "code",
      "metadata": {
        "id": "kwlYdTcg63xy",
        "colab": {
          "base_uri": "https://localhost:8080/"
        },
        "outputId": "d73fa25e-c12a-4dad-eb31-5d91b3b27216"
      },
      "source": [
        "model = object_detector.create(train_data,epochs=50,model_spec=spec, batch_size=8, train_whole_model=True, validation_data=validation_data)"
      ],
      "execution_count": null,
      "outputs": [
        {
          "output_type": "stream",
          "text": [
            "Epoch 1/50\n",
            "59/59 [==============================] - 74s 703ms/step - det_loss: 1.6723 - cls_loss: 1.1793 - box_loss: 0.0099 - reg_l2_loss: 0.0770 - loss: 1.7493 - learning_rate: 0.0090 - gradient_norm: 1.6125 - val_det_loss: 1.5518 - val_cls_loss: 1.1791 - val_box_loss: 0.0075 - val_reg_l2_loss: 0.0770 - val_loss: 1.6288\n",
            "Epoch 2/50\n",
            "59/59 [==============================] - 36s 612ms/step - det_loss: 1.3086 - cls_loss: 0.9962 - box_loss: 0.0062 - reg_l2_loss: 0.0770 - loss: 1.3856 - learning_rate: 0.0100 - gradient_norm: 3.4574 - val_det_loss: 1.2274 - val_cls_loss: 0.9332 - val_box_loss: 0.0059 - val_reg_l2_loss: 0.0771 - val_loss: 1.3044\n",
            "Epoch 3/50\n",
            "59/59 [==============================] - 36s 621ms/step - det_loss: 1.0766 - cls_loss: 0.8208 - box_loss: 0.0051 - reg_l2_loss: 0.0772 - loss: 1.1538 - learning_rate: 0.0099 - gradient_norm: 4.0964 - val_det_loss: 1.1920 - val_cls_loss: 0.9019 - val_box_loss: 0.0058 - val_reg_l2_loss: 0.0773 - val_loss: 1.2693\n",
            "Epoch 4/50\n",
            "59/59 [==============================] - 36s 619ms/step - det_loss: 0.9210 - cls_loss: 0.6837 - box_loss: 0.0047 - reg_l2_loss: 0.0774 - loss: 0.9984 - learning_rate: 0.0099 - gradient_norm: 3.8105 - val_det_loss: 1.1334 - val_cls_loss: 0.8566 - val_box_loss: 0.0055 - val_reg_l2_loss: 0.0774 - val_loss: 1.2108\n",
            "Epoch 5/50\n",
            "59/59 [==============================] - 37s 622ms/step - det_loss: 0.8647 - cls_loss: 0.6342 - box_loss: 0.0046 - reg_l2_loss: 0.0775 - loss: 0.9422 - learning_rate: 0.0098 - gradient_norm: 3.9865 - val_det_loss: 0.9612 - val_cls_loss: 0.7247 - val_box_loss: 0.0047 - val_reg_l2_loss: 0.0776 - val_loss: 1.0388\n",
            "Epoch 6/50\n",
            "59/59 [==============================] - 38s 640ms/step - det_loss: 0.8082 - cls_loss: 0.5990 - box_loss: 0.0042 - reg_l2_loss: 0.0777 - loss: 0.8859 - learning_rate: 0.0097 - gradient_norm: 3.9040 - val_det_loss: 0.8831 - val_cls_loss: 0.6448 - val_box_loss: 0.0048 - val_reg_l2_loss: 0.0778 - val_loss: 0.9609\n",
            "Epoch 7/50\n",
            "59/59 [==============================] - 37s 637ms/step - det_loss: 0.7773 - cls_loss: 0.5770 - box_loss: 0.0040 - reg_l2_loss: 0.0778 - loss: 0.8551 - learning_rate: 0.0096 - gradient_norm: 4.0607 - val_det_loss: 0.8924 - val_cls_loss: 0.7277 - val_box_loss: 0.0033 - val_reg_l2_loss: 0.0779 - val_loss: 0.9703\n",
            "Epoch 8/50\n",
            "59/59 [==============================] - 38s 639ms/step - det_loss: 0.7290 - cls_loss: 0.5437 - box_loss: 0.0037 - reg_l2_loss: 0.0780 - loss: 0.8070 - learning_rate: 0.0094 - gradient_norm: 4.2198 - val_det_loss: 0.9784 - val_cls_loss: 0.7682 - val_box_loss: 0.0042 - val_reg_l2_loss: 0.0781 - val_loss: 1.0565\n",
            "Epoch 9/50\n",
            "59/59 [==============================] - 37s 636ms/step - det_loss: 0.7175 - cls_loss: 0.5247 - box_loss: 0.0039 - reg_l2_loss: 0.0781 - loss: 0.7956 - learning_rate: 0.0093 - gradient_norm: 4.2309 - val_det_loss: 0.9448 - val_cls_loss: 0.7069 - val_box_loss: 0.0048 - val_reg_l2_loss: 0.0782 - val_loss: 1.0230\n",
            "Epoch 10/50\n",
            "59/59 [==============================] - 37s 633ms/step - det_loss: 0.7186 - cls_loss: 0.5216 - box_loss: 0.0039 - reg_l2_loss: 0.0783 - loss: 0.7969 - learning_rate: 0.0091 - gradient_norm: 4.3847 - val_det_loss: 0.8622 - val_cls_loss: 0.6418 - val_box_loss: 0.0044 - val_reg_l2_loss: 0.0784 - val_loss: 0.9406\n",
            "Epoch 11/50\n",
            "59/59 [==============================] - 37s 630ms/step - det_loss: 0.6676 - cls_loss: 0.4930 - box_loss: 0.0035 - reg_l2_loss: 0.0785 - loss: 0.7460 - learning_rate: 0.0089 - gradient_norm: 4.3102 - val_det_loss: 0.8154 - val_cls_loss: 0.6346 - val_box_loss: 0.0036 - val_reg_l2_loss: 0.0785 - val_loss: 0.8940\n",
            "Epoch 12/50\n",
            "59/59 [==============================] - 37s 635ms/step - det_loss: 0.6689 - cls_loss: 0.4999 - box_loss: 0.0034 - reg_l2_loss: 0.0786 - loss: 0.7475 - learning_rate: 0.0087 - gradient_norm: 4.2546 - val_det_loss: 0.7798 - val_cls_loss: 0.6135 - val_box_loss: 0.0033 - val_reg_l2_loss: 0.0787 - val_loss: 0.8585\n",
            "Epoch 13/50\n",
            "59/59 [==============================] - 37s 629ms/step - det_loss: 0.6229 - cls_loss: 0.4592 - box_loss: 0.0033 - reg_l2_loss: 0.0787 - loss: 0.7016 - learning_rate: 0.0085 - gradient_norm: 4.3171 - val_det_loss: 0.7332 - val_cls_loss: 0.5739 - val_box_loss: 0.0032 - val_reg_l2_loss: 0.0788 - val_loss: 0.8120\n",
            "Epoch 14/50\n",
            "59/59 [==============================] - 37s 633ms/step - det_loss: 0.6307 - cls_loss: 0.4551 - box_loss: 0.0035 - reg_l2_loss: 0.0789 - loss: 0.7096 - learning_rate: 0.0082 - gradient_norm: 4.7333 - val_det_loss: 0.8409 - val_cls_loss: 0.6104 - val_box_loss: 0.0046 - val_reg_l2_loss: 0.0790 - val_loss: 0.9198\n",
            "Epoch 15/50\n",
            "59/59 [==============================] - 37s 637ms/step - det_loss: 0.6099 - cls_loss: 0.4551 - box_loss: 0.0031 - reg_l2_loss: 0.0790 - loss: 0.6889 - learning_rate: 0.0080 - gradient_norm: 4.4791 - val_det_loss: 0.7586 - val_cls_loss: 0.5990 - val_box_loss: 0.0032 - val_reg_l2_loss: 0.0791 - val_loss: 0.8377\n",
            "Epoch 16/50\n",
            "59/59 [==============================] - 38s 645ms/step - det_loss: 0.5831 - cls_loss: 0.4299 - box_loss: 0.0031 - reg_l2_loss: 0.0791 - loss: 0.6623 - learning_rate: 0.0077 - gradient_norm: 3.7912 - val_det_loss: 0.6895 - val_cls_loss: 0.5313 - val_box_loss: 0.0032 - val_reg_l2_loss: 0.0792 - val_loss: 0.7687\n",
            "Epoch 17/50\n",
            "59/59 [==============================] - 37s 636ms/step - det_loss: 0.5699 - cls_loss: 0.4213 - box_loss: 0.0030 - reg_l2_loss: 0.0792 - loss: 0.6492 - learning_rate: 0.0075 - gradient_norm: 4.2771 - val_det_loss: 0.6762 - val_cls_loss: 0.5217 - val_box_loss: 0.0031 - val_reg_l2_loss: 0.0793 - val_loss: 0.7555\n",
            "Epoch 18/50\n",
            "59/59 [==============================] - 38s 645ms/step - det_loss: 0.5562 - cls_loss: 0.4118 - box_loss: 0.0029 - reg_l2_loss: 0.0793 - loss: 0.6355 - learning_rate: 0.0072 - gradient_norm: 4.2130 - val_det_loss: 0.7934 - val_cls_loss: 0.6062 - val_box_loss: 0.0037 - val_reg_l2_loss: 0.0794 - val_loss: 0.8728\n",
            "Epoch 19/50\n",
            "59/59 [==============================] - 37s 637ms/step - det_loss: 0.5277 - cls_loss: 0.3819 - box_loss: 0.0029 - reg_l2_loss: 0.0794 - loss: 0.6071 - learning_rate: 0.0069 - gradient_norm: 4.3198 - val_det_loss: 0.7926 - val_cls_loss: 0.6267 - val_box_loss: 0.0033 - val_reg_l2_loss: 0.0795 - val_loss: 0.8721\n",
            "Epoch 20/50\n",
            "59/59 [==============================] - 38s 646ms/step - det_loss: 0.5537 - cls_loss: 0.4007 - box_loss: 0.0031 - reg_l2_loss: 0.0795 - loss: 0.6332 - learning_rate: 0.0066 - gradient_norm: 4.7160 - val_det_loss: 0.9404 - val_cls_loss: 0.7175 - val_box_loss: 0.0045 - val_reg_l2_loss: 0.0795 - val_loss: 1.0199\n",
            "Epoch 21/50\n",
            "59/59 [==============================] - 37s 630ms/step - det_loss: 0.5327 - cls_loss: 0.3899 - box_loss: 0.0029 - reg_l2_loss: 0.0796 - loss: 0.6123 - learning_rate: 0.0063 - gradient_norm: 4.2792 - val_det_loss: 0.8237 - val_cls_loss: 0.6392 - val_box_loss: 0.0037 - val_reg_l2_loss: 0.0796 - val_loss: 0.9034\n",
            "Epoch 22/50\n",
            "59/59 [==============================] - 37s 635ms/step - det_loss: 0.5055 - cls_loss: 0.3689 - box_loss: 0.0027 - reg_l2_loss: 0.0797 - loss: 0.5852 - learning_rate: 0.0060 - gradient_norm: 4.3892 - val_det_loss: 0.8105 - val_cls_loss: 0.6095 - val_box_loss: 0.0040 - val_reg_l2_loss: 0.0797 - val_loss: 0.8902\n",
            "Epoch 23/50\n",
            "59/59 [==============================] - 37s 634ms/step - det_loss: 0.4910 - cls_loss: 0.3569 - box_loss: 0.0027 - reg_l2_loss: 0.0797 - loss: 0.5707 - learning_rate: 0.0056 - gradient_norm: 4.3918 - val_det_loss: 0.8404 - val_cls_loss: 0.6453 - val_box_loss: 0.0039 - val_reg_l2_loss: 0.0798 - val_loss: 0.9202\n",
            "Epoch 24/50\n",
            "59/59 [==============================] - 37s 635ms/step - det_loss: 0.4525 - cls_loss: 0.3320 - box_loss: 0.0024 - reg_l2_loss: 0.0798 - loss: 0.5323 - learning_rate: 0.0053 - gradient_norm: 3.9635 - val_det_loss: 0.7287 - val_cls_loss: 0.5886 - val_box_loss: 0.0028 - val_reg_l2_loss: 0.0798 - val_loss: 0.8085\n",
            "Epoch 25/50\n",
            "59/59 [==============================] - 37s 638ms/step - det_loss: 0.4599 - cls_loss: 0.3374 - box_loss: 0.0025 - reg_l2_loss: 0.0798 - loss: 0.5398 - learning_rate: 0.0050 - gradient_norm: 4.3771 - val_det_loss: 0.7366 - val_cls_loss: 0.5870 - val_box_loss: 0.0030 - val_reg_l2_loss: 0.0798 - val_loss: 0.8164\n",
            "Epoch 26/50\n",
            "59/59 [==============================] - 37s 632ms/step - det_loss: 0.4572 - cls_loss: 0.3305 - box_loss: 0.0025 - reg_l2_loss: 0.0799 - loss: 0.5371 - learning_rate: 0.0047 - gradient_norm: 4.3537 - val_det_loss: 0.7903 - val_cls_loss: 0.6409 - val_box_loss: 0.0030 - val_reg_l2_loss: 0.0799 - val_loss: 0.8702\n",
            "Epoch 27/50\n",
            "59/59 [==============================] - 38s 641ms/step - det_loss: 0.4370 - cls_loss: 0.3194 - box_loss: 0.0024 - reg_l2_loss: 0.0799 - loss: 0.5169 - learning_rate: 0.0044 - gradient_norm: 4.1415 - val_det_loss: 0.8456 - val_cls_loss: 0.6877 - val_box_loss: 0.0032 - val_reg_l2_loss: 0.0799 - val_loss: 0.9256\n",
            "Epoch 28/50\n",
            "59/59 [==============================] - 37s 632ms/step - det_loss: 0.4098 - cls_loss: 0.3028 - box_loss: 0.0021 - reg_l2_loss: 0.0799 - loss: 0.4898 - learning_rate: 0.0040 - gradient_norm: 4.0814 - val_det_loss: 0.8037 - val_cls_loss: 0.6462 - val_box_loss: 0.0031 - val_reg_l2_loss: 0.0799 - val_loss: 0.8837\n",
            "Epoch 29/50\n",
            "59/59 [==============================] - 37s 631ms/step - det_loss: 0.4020 - cls_loss: 0.2930 - box_loss: 0.0022 - reg_l2_loss: 0.0800 - loss: 0.4820 - learning_rate: 0.0037 - gradient_norm: 3.8421 - val_det_loss: 0.7668 - val_cls_loss: 0.6032 - val_box_loss: 0.0033 - val_reg_l2_loss: 0.0800 - val_loss: 0.8468\n",
            "Epoch 30/50\n",
            "59/59 [==============================] - 37s 625ms/step - det_loss: 0.4012 - cls_loss: 0.2951 - box_loss: 0.0021 - reg_l2_loss: 0.0800 - loss: 0.4812 - learning_rate: 0.0034 - gradient_norm: 3.8513 - val_det_loss: 0.6811 - val_cls_loss: 0.5466 - val_box_loss: 0.0027 - val_reg_l2_loss: 0.0800 - val_loss: 0.7611\n",
            "Epoch 31/50\n",
            "59/59 [==============================] - 37s 622ms/step - det_loss: 0.4062 - cls_loss: 0.2984 - box_loss: 0.0022 - reg_l2_loss: 0.0800 - loss: 0.4862 - learning_rate: 0.0031 - gradient_norm: 4.2368 - val_det_loss: 0.8111 - val_cls_loss: 0.6592 - val_box_loss: 0.0030 - val_reg_l2_loss: 0.0800 - val_loss: 0.8911\n",
            "Epoch 32/50\n",
            "59/59 [==============================] - 37s 638ms/step - det_loss: 0.3589 - cls_loss: 0.2628 - box_loss: 0.0019 - reg_l2_loss: 0.0800 - loss: 0.4389 - learning_rate: 0.0028 - gradient_norm: 3.5445 - val_det_loss: 0.6727 - val_cls_loss: 0.5370 - val_box_loss: 0.0027 - val_reg_l2_loss: 0.0800 - val_loss: 0.7527\n",
            "Epoch 33/50\n",
            "59/59 [==============================] - 37s 633ms/step - det_loss: 0.3658 - cls_loss: 0.2633 - box_loss: 0.0021 - reg_l2_loss: 0.0800 - loss: 0.4458 - learning_rate: 0.0025 - gradient_norm: 3.7396 - val_det_loss: 0.6956 - val_cls_loss: 0.5626 - val_box_loss: 0.0027 - val_reg_l2_loss: 0.0800 - val_loss: 0.7756\n",
            "Epoch 34/50\n",
            "59/59 [==============================] - 37s 629ms/step - det_loss: 0.3661 - cls_loss: 0.2655 - box_loss: 0.0020 - reg_l2_loss: 0.0800 - loss: 0.4461 - learning_rate: 0.0023 - gradient_norm: 4.2610 - val_det_loss: 0.7670 - val_cls_loss: 0.6196 - val_box_loss: 0.0029 - val_reg_l2_loss: 0.0800 - val_loss: 0.8470\n",
            "Epoch 35/50\n",
            "59/59 [==============================] - 37s 631ms/step - det_loss: 0.3706 - cls_loss: 0.2719 - box_loss: 0.0020 - reg_l2_loss: 0.0800 - loss: 0.4506 - learning_rate: 0.0020 - gradient_norm: 4.0701 - val_det_loss: 0.8545 - val_cls_loss: 0.7002 - val_box_loss: 0.0031 - val_reg_l2_loss: 0.0800 - val_loss: 0.9345\n",
            "Epoch 36/50\n",
            "59/59 [==============================] - 37s 632ms/step - det_loss: 0.3506 - cls_loss: 0.2524 - box_loss: 0.0020 - reg_l2_loss: 0.0800 - loss: 0.4306 - learning_rate: 0.0018 - gradient_norm: 3.6208 - val_det_loss: 0.7867 - val_cls_loss: 0.6465 - val_box_loss: 0.0028 - val_reg_l2_loss: 0.0800 - val_loss: 0.8667\n",
            "Epoch 37/50\n",
            "59/59 [==============================] - 37s 630ms/step - det_loss: 0.3431 - cls_loss: 0.2498 - box_loss: 0.0019 - reg_l2_loss: 0.0800 - loss: 0.4231 - learning_rate: 0.0015 - gradient_norm: 3.7969 - val_det_loss: 0.8547 - val_cls_loss: 0.6966 - val_box_loss: 0.0032 - val_reg_l2_loss: 0.0800 - val_loss: 0.9347\n",
            "Epoch 38/50\n",
            "59/59 [==============================] - 37s 630ms/step - det_loss: 0.3351 - cls_loss: 0.2425 - box_loss: 0.0019 - reg_l2_loss: 0.0800 - loss: 0.4151 - learning_rate: 0.0013 - gradient_norm: 3.8424 - val_det_loss: 0.8557 - val_cls_loss: 0.6936 - val_box_loss: 0.0032 - val_reg_l2_loss: 0.0800 - val_loss: 0.9357\n",
            "Epoch 39/50\n",
            "59/59 [==============================] - 37s 628ms/step - det_loss: 0.3435 - cls_loss: 0.2465 - box_loss: 0.0019 - reg_l2_loss: 0.0800 - loss: 0.4235 - learning_rate: 0.0011 - gradient_norm: 3.7099 - val_det_loss: 0.8319 - val_cls_loss: 0.6842 - val_box_loss: 0.0030 - val_reg_l2_loss: 0.0800 - val_loss: 0.9119\n",
            "Epoch 40/50\n",
            "59/59 [==============================] - 37s 630ms/step - det_loss: 0.3344 - cls_loss: 0.2431 - box_loss: 0.0018 - reg_l2_loss: 0.0800 - loss: 0.4144 - learning_rate: 8.9991e-04 - gradient_norm: 3.8611 - val_det_loss: 0.7954 - val_cls_loss: 0.6544 - val_box_loss: 0.0028 - val_reg_l2_loss: 0.0800 - val_loss: 0.8754\n",
            "Epoch 41/50\n",
            "59/59 [==============================] - 37s 629ms/step - det_loss: 0.3405 - cls_loss: 0.2428 - box_loss: 0.0020 - reg_l2_loss: 0.0800 - loss: 0.4205 - learning_rate: 7.2509e-04 - gradient_norm: 3.5725 - val_det_loss: 0.7850 - val_cls_loss: 0.6485 - val_box_loss: 0.0027 - val_reg_l2_loss: 0.0800 - val_loss: 0.8650\n",
            "Epoch 42/50\n",
            "59/59 [==============================] - 37s 635ms/step - det_loss: 0.3316 - cls_loss: 0.2399 - box_loss: 0.0018 - reg_l2_loss: 0.0800 - loss: 0.4116 - learning_rate: 5.6783e-04 - gradient_norm: 3.6970 - val_det_loss: 0.8008 - val_cls_loss: 0.6596 - val_box_loss: 0.0028 - val_reg_l2_loss: 0.0800 - val_loss: 0.8808\n",
            "Epoch 43/50\n",
            "59/59 [==============================] - 37s 628ms/step - det_loss: 0.3284 - cls_loss: 0.2345 - box_loss: 0.0019 - reg_l2_loss: 0.0800 - loss: 0.4084 - learning_rate: 4.2878e-04 - gradient_norm: 3.7018 - val_det_loss: 0.7924 - val_cls_loss: 0.6567 - val_box_loss: 0.0027 - val_reg_l2_loss: 0.0800 - val_loss: 0.8724\n",
            "Epoch 44/50\n",
            "59/59 [==============================] - 37s 632ms/step - det_loss: 0.3309 - cls_loss: 0.2394 - box_loss: 0.0018 - reg_l2_loss: 0.0800 - loss: 0.4109 - learning_rate: 3.0852e-04 - gradient_norm: 3.4490 - val_det_loss: 0.7886 - val_cls_loss: 0.6494 - val_box_loss: 0.0028 - val_reg_l2_loss: 0.0800 - val_loss: 0.8686\n",
            "Epoch 45/50\n",
            "59/59 [==============================] - 37s 629ms/step - det_loss: 0.3296 - cls_loss: 0.2365 - box_loss: 0.0019 - reg_l2_loss: 0.0800 - loss: 0.4097 - learning_rate: 2.0753e-04 - gradient_norm: 3.6751 - val_det_loss: 0.7777 - val_cls_loss: 0.6385 - val_box_loss: 0.0028 - val_reg_l2_loss: 0.0800 - val_loss: 0.8578\n",
            "Epoch 46/50\n",
            "59/59 [==============================] - 37s 625ms/step - det_loss: 0.3145 - cls_loss: 0.2249 - box_loss: 0.0018 - reg_l2_loss: 0.0800 - loss: 0.3945 - learning_rate: 1.2624e-04 - gradient_norm: 3.1399 - val_det_loss: 0.7842 - val_cls_loss: 0.6452 - val_box_loss: 0.0028 - val_reg_l2_loss: 0.0800 - val_loss: 0.8642\n",
            "Epoch 47/50\n",
            "59/59 [==============================] - 37s 626ms/step - det_loss: 0.3337 - cls_loss: 0.2391 - box_loss: 0.0019 - reg_l2_loss: 0.0800 - loss: 0.4137 - learning_rate: 6.4977e-05 - gradient_norm: 3.7046 - val_det_loss: 0.7746 - val_cls_loss: 0.6360 - val_box_loss: 0.0028 - val_reg_l2_loss: 0.0800 - val_loss: 0.8546\n",
            "Epoch 48/50\n",
            "59/59 [==============================] - 37s 630ms/step - det_loss: 0.3204 - cls_loss: 0.2281 - box_loss: 0.0018 - reg_l2_loss: 0.0800 - loss: 0.4005 - learning_rate: 2.3991e-05 - gradient_norm: 3.4212 - val_det_loss: 0.7789 - val_cls_loss: 0.6409 - val_box_loss: 0.0028 - val_reg_l2_loss: 0.0800 - val_loss: 0.8590\n",
            "Epoch 49/50\n",
            "59/59 [==============================] - 37s 629ms/step - det_loss: 0.3098 - cls_loss: 0.2231 - box_loss: 0.0017 - reg_l2_loss: 0.0800 - loss: 0.3898 - learning_rate: 3.4539e-06 - gradient_norm: 3.3416 - val_det_loss: 0.7774 - val_cls_loss: 0.6401 - val_box_loss: 0.0027 - val_reg_l2_loss: 0.0800 - val_loss: 0.8574\n",
            "Epoch 50/50\n",
            "59/59 [==============================] - 37s 636ms/step - det_loss: 0.3144 - cls_loss: 0.2235 - box_loss: 0.0018 - reg_l2_loss: 0.0800 - loss: 0.3944 - learning_rate: 3.4481e-06 - gradient_norm: 3.3925 - val_det_loss: 0.7798 - val_cls_loss: 0.6419 - val_box_loss: 0.0028 - val_reg_l2_loss: 0.0800 - val_loss: 0.8598\n"
          ],
          "name": "stdout"
        }
      ]
    },
    {
      "cell_type": "markdown",
      "metadata": {
        "id": "-BzCHLWJ6h7q"
      },
      "source": [
        "**Evaluate the model with the test data.**\n"
      ]
    },
    {
      "cell_type": "code",
      "metadata": {
        "id": "8xmnl6Yy7ARn",
        "colab": {
          "base_uri": "https://localhost:8080/"
        },
        "outputId": "6387103f-9586-4677-e655-e16ab795adcb"
      },
      "source": [
        "model.evaluate(test_data)"
      ],
      "execution_count": null,
      "outputs": [
        {
          "output_type": "stream",
          "text": [
            "3/3 [==============================] - 24s 4s/step\n",
            "\n"
          ],
          "name": "stdout"
        },
        {
          "output_type": "execute_result",
          "data": {
            "text/plain": [
              "{'AP': 0.2853088,\n",
              " 'AP50': 0.40662488,\n",
              " 'AP75': 0.3208054,\n",
              " 'AP_/Banana': 0.11647411,\n",
              " 'AP_/Cabbage': 0.4032958,\n",
              " 'AP_/Carrot': 0.22689329,\n",
              " 'AP_/Egg': 0.36905634,\n",
              " 'AP_/Pasta': 0.6822422,\n",
              " 'AP_/Potato': 0.20640133,\n",
              " 'AP_/Shrimp': 0.039367117,\n",
              " 'AP_/Tomato': 0.2387402,\n",
              " 'APl': 0.3041484,\n",
              " 'APm': 0.1136757,\n",
              " 'APs': 0.020509195,\n",
              " 'ARl': 0.5609739,\n",
              " 'ARm': 0.26574075,\n",
              " 'ARmax1': 0.29298848,\n",
              " 'ARmax10': 0.47564918,\n",
              " 'ARmax100': 0.5315923,\n",
              " 'ARs': 0.07692308}"
            ]
          },
          "metadata": {
            "tags": []
          },
          "execution_count": 16
        }
      ]
    },
    {
      "cell_type": "markdown",
      "metadata": {
        "id": "CgCDMe0e6jlT"
      },
      "source": [
        "**Export as a TensorFlow Lite model.**\n"
      ]
    },
    {
      "cell_type": "code",
      "metadata": {
        "id": "Hm_UULdW7A9T"
      },
      "source": [
        "model.export(export_dir='.')"
      ],
      "execution_count": null,
      "outputs": []
    },
    {
      "cell_type": "markdown",
      "metadata": {
        "id": "UygYErfCD5m3"
      },
      "source": [
        "**Evaluate the TensorFlow Lite model.**\n"
      ]
    },
    {
      "cell_type": "code",
      "metadata": {
        "id": "iHYDWcljr6jq",
        "colab": {
          "base_uri": "https://localhost:8080/"
        },
        "outputId": "a5209259-58c4-40cf-8daf-b5c6c6e9cb25"
      },
      "source": [
        "model.evaluate_tflite('model.tflite', test_data)"
      ],
      "execution_count": null,
      "outputs": [
        {
          "output_type": "stream",
          "text": [
            "150/150 [==============================] - 1193s 8s/step\n",
            "\n"
          ],
          "name": "stdout"
        },
        {
          "output_type": "execute_result",
          "data": {
            "text/plain": [
              "{'AP': 0.26149943,\n",
              " 'AP50': 0.3813324,\n",
              " 'AP75': 0.29211673,\n",
              " 'AP_/Banana': 0.112677924,\n",
              " 'AP_/Cabbage': 0.43915927,\n",
              " 'AP_/Carrot': 0.20741428,\n",
              " 'AP_/Egg': 0.2662298,\n",
              " 'AP_/Pasta': 0.65255314,\n",
              " 'AP_/Potato': 0.22007677,\n",
              " 'AP_/Shrimp': 0.02151401,\n",
              " 'AP_/Tomato': 0.17237021,\n",
              " 'APl': 0.28227845,\n",
              " 'APm': 0.035562817,\n",
              " 'APs': 0.023762377,\n",
              " 'ARl': 0.4838489,\n",
              " 'ARm': 0.18981482,\n",
              " 'ARmax1': 0.27585658,\n",
              " 'ARmax10': 0.42055234,\n",
              " 'ARmax100': 0.45392972,\n",
              " 'ARs': 0.023076924}"
            ]
          },
          "metadata": {
            "tags": []
          },
          "execution_count": 12
        }
      ]
    }
  ]
}